{
 "cells": [
  {
   "cell_type": "markdown",
   "id": "898dacd2",
   "metadata": {},
   "source": [
    "# Customer Segmentation using Machine Learning\n",
    "\n",
    "## Objective\n",
    "The goal of this project is to segment customers based on their purchasing behavior using K-Means clustering.\n",
    "This helps businesses identify different customer groups for targeted marketing strategies.\n",
    "\n",
    "## Dataset\n",
    "- The dataset includes **Age, Annual Income, and Spending Score**.\n",
    "- Data has been generated synthetically for demonstration purposes.\n",
    "\n",
    "## Steps:\n",
    "1. Load and preprocess the dataset.\n",
    "2. Perform Exploratory Data Analysis (EDA).\n",
    "3. Apply K-Means clustering and determine the optimal number of clusters using the Elbow Method.\n",
    "4. Visualize the clustered data.\n",
    "5. Evaluate clustering performance using the **Silhouette Score**.\n"
   ]
  },
  {
   "cell_type": "code",
   "execution_count": null,
   "id": "d766c09a",
   "metadata": {},
   "outputs": [],
   "source": [
    "import pandas as pd\n",
    "import numpy as np\n",
    "import matplotlib.pyplot as plt\n",
    "import seaborn as sns\n",
    "from sklearn.cluster import KMeans\n",
    "from sklearn.preprocessing import StandardScaler\n",
    "from sklearn.metrics import silhouette_score\n",
    "\n",
    "# Set random seed for reproducibility\n",
    "np.random.seed(42)\n"
   ]
  },
  {
   "cell_type": "code",
   "execution_count": null,
   "id": "9a450c26",
   "metadata": {},
   "outputs": [],
   "source": [
    "# Generate synthetic dataset\n",
    "n_samples = 200\n",
    "age = np.random.randint(18, 70, n_samples)\n",
    "income = np.random.randint(15000, 120000, n_samples)\n",
    "spending_score = np.random.randint(1, 100, n_samples)\n",
    "\n",
    "# Create DataFrame\n",
    "df = pd.DataFrame({'Age': age, 'Annual Income': income, 'Spending Score': spending_score})\n",
    "\n",
    "# Display first 5 rows\n",
    "df.head()\n"
   ]
  },
  {
   "cell_type": "code",
   "execution_count": null,
   "id": "73b727b4",
   "metadata": {},
   "outputs": [],
   "source": [
    "# Standardize the data\n",
    "scaler = StandardScaler()\n",
    "df_scaled = scaler.fit_transform(df)\n"
   ]
  },
  {
   "cell_type": "code",
   "execution_count": null,
   "id": "032980fe",
   "metadata": {},
   "outputs": [],
   "source": [
    "# Determine the optimal number of clusters using the Elbow Method\n",
    "wcss = []\n",
    "for i in range(1, 11):\n",
    "    kmeans = KMeans(n_clusters=i, random_state=42, n_init=10)\n",
    "    kmeans.fit(df_scaled)\n",
    "    wcss.append(kmeans.inertia_)\n",
    "\n",
    "# Plot the Elbow Method\n",
    "plt.figure(figsize=(8, 5))\n",
    "plt.plot(range(1, 11), wcss, marker='o', linestyle='--')\n",
    "plt.xlabel('Number of Clusters')\n",
    "plt.ylabel('WCSS')\n",
    "plt.title('Elbow Method for Optimal K')\n",
    "plt.show()\n"
   ]
  },
  {
   "cell_type": "code",
   "execution_count": null,
   "id": "c0d82809",
   "metadata": {},
   "outputs": [],
   "source": [
    "# Apply K-Means with optimal K (based on Elbow Method, assume K=4)\n",
    "optimal_k = 4\n",
    "kmeans = KMeans(n_clusters=optimal_k, random_state=42, n_init=10)\n",
    "clusters = kmeans.fit_predict(df_scaled)\n",
    "df['Cluster'] = clusters\n",
    "\n",
    "# Calculate Silhouette Score\n",
    "silhouette_avg = silhouette_score(df_scaled, clusters)\n",
    "print(f'Silhouette Score: {silhouette_avg:.2f}')\n"
   ]
  },
  {
   "cell_type": "code",
   "execution_count": null,
   "id": "2b5a5262",
   "metadata": {},
   "outputs": [],
   "source": [
    "# Plot Clusters\n",
    "plt.figure(figsize=(10, 6))\n",
    "sns.scatterplot(x=df['Annual Income'], y=df['Spending Score'], hue=df['Cluster'], palette='viridis', s=100, alpha=0.7)\n",
    "plt.xlabel('Annual Income')\n",
    "plt.ylabel('Spending Score')\n",
    "plt.title(f'Customer Segmentation (K={optimal_k}) - Silhouette Score: {silhouette_avg:.2f}')\n",
    "plt.legend(title='Cluster')\n",
    "plt.show()\n"
   ]
  }
 ],
 "metadata": {},
 "nbformat": 4,
 "nbformat_minor": 5
}
